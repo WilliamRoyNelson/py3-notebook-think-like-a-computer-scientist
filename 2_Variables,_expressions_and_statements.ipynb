{
  "nbformat": 4,
  "nbformat_minor": 0,
  "metadata": {
    "colab": {
      "name": "2. Variables, expressions and statements.ipynb",
      "provenance": [],
      "collapsed_sections": [],
      "authorship_tag": "ABX9TyNN6/jHkWmKXvaSDSBCpARk",
      "include_colab_link": true
    },
    "kernelspec": {
      "name": "python3",
      "display_name": "Python 3"
    }
  },
  "cells": [
    {
      "cell_type": "markdown",
      "metadata": {
        "id": "view-in-github",
        "colab_type": "text"
      },
      "source": [
        "<a href=\"https://colab.research.google.com/github/WilliamRoyNelson/py3-notebook-think-like-a-computer-scientist/blob/master/2_Variables%2C_expressions_and_statements.ipynb\" target=\"_parent\"><img src=\"https://colab.research.google.com/assets/colab-badge.svg\" alt=\"Open In Colab\"/></a>"
      ]
    },
    {
      "cell_type": "markdown",
      "metadata": {
        "id": "q8GzZ21_eAEJ",
        "colab_type": "text"
      },
      "source": [
        "# 2. Variables, expressions and statements\n",
        "\n",
        "## 2.1. Values and data types\n",
        "\n",
        "A **value** is one of the fundamental things — like a letter or a number — that a program manipulates. The values we have seen so far are `4` (the result when we added `2 + 2`), and `\"Hello, World!\"`.\n",
        "\n",
        "These values are classified into different **classes**, or **data types**: `4` is an *integer*, and `\"Hello, World!\"` is a *string*, so-called because it contains a string of letters. You (and the interpreter) can identify strings because they are enclosed in quotation marks.\n",
        "\n",
        "If you are not sure what class a value falls into, Python has a function called **type** which can tell you.\n",
        "```\n",
        ">>> type(\"Hello, World!\")\n",
        "<class 'str'>\n",
        ">>> type(17)\n",
        "<class 'int'>\n",
        "```\n"
      ]
    },
    {
      "cell_type": "code",
      "metadata": {
        "id": "r9-iphvof3LR",
        "colab_type": "code",
        "colab": {}
      },
      "source": [
        "type(\"Hello, World!\")"
      ],
      "execution_count": null,
      "outputs": []
    },
    {
      "cell_type": "code",
      "metadata": {
        "id": "E2msoOytf7DQ",
        "colab_type": "code",
        "colab": {}
      },
      "source": [
        "type(17)"
      ],
      "execution_count": null,
      "outputs": []
    },
    {
      "cell_type": "markdown",
      "metadata": {
        "id": "7OVO3kisf2HS",
        "colab_type": "text"
      },
      "source": [
        "\n",
        "Not surprisingly, strings belong to the class **str** and integers belong to the class **int**. Less obviously, numbers with a decimal point belong to a class called **float**, because these numbers are represented in a format called *floating-point*. At this stage, you can treat the words *class* and *type* interchangeably. We’ll come back to a deeper understanding of what a class is in later chapters.\n",
        "\n",
        "```\n",
        ">>> type(3.2)\n",
        "<class 'float'>\n",
        "```\n"
      ]
    },
    {
      "cell_type": "code",
      "metadata": {
        "id": "CPtM3KQJgM3H",
        "colab_type": "code",
        "colab": {}
      },
      "source": [
        "type(3.2)"
      ],
      "execution_count": null,
      "outputs": []
    },
    {
      "cell_type": "markdown",
      "metadata": {
        "id": "M1dkJjIwgN9P",
        "colab_type": "text"
      },
      "source": [
        "\n",
        "What about values like \"`17`\" and \"`3.2`\"? They look like numbers, but they are in quotation marks like strings.\n",
        "\n",
        "\n",
        "\n",
        "```\n",
        ">>> type(\"17\")\n",
        "<class 'str'>\n",
        ">>> type(\"3.2\")\n",
        "<class 'str'>\n",
        "```\n",
        "\n",
        "\n"
      ]
    },
    {
      "cell_type": "code",
      "metadata": {
        "id": "707MXYNJgYWN",
        "colab_type": "code",
        "colab": {}
      },
      "source": [
        "type(\"17\")"
      ],
      "execution_count": null,
      "outputs": []
    },
    {
      "cell_type": "code",
      "metadata": {
        "id": "X60ItST_gZi_",
        "colab_type": "code",
        "colab": {}
      },
      "source": [
        "type(\"3.2\")"
      ],
      "execution_count": null,
      "outputs": []
    },
    {
      "cell_type": "markdown",
      "metadata": {
        "id": "VBeIfZQ8gYcp",
        "colab_type": "text"
      },
      "source": [
        "\n",
        "They’re strings!\n",
        "\n",
        "Strings in Python can be enclosed in either single quotes (`'`) or double quotes (`\"`), or three of each (`'''` or `\"\"\"`)\n",
        "\n",
        "\n",
        "\n",
        "```\n",
        ">>> type('This is a string.')\n",
        "<class 'str'>\n",
        ">>> type(\"And so is this.\")\n",
        "<class 'str'>\n",
        ">>> type(\"\"\"and this.\"\"\")\n",
        "<class 'str'>\n",
        ">>> type('''and even this...''')\n",
        "<class 'str'>\n",
        "```\n"
      ]
    },
    {
      "cell_type": "code",
      "metadata": {
        "id": "Vo_eSlBzggY6",
        "colab_type": "code",
        "colab": {}
      },
      "source": [
        "type('This is a string.')"
      ],
      "execution_count": null,
      "outputs": []
    },
    {
      "cell_type": "code",
      "metadata": {
        "id": "Ld4pGJlAghla",
        "colab_type": "code",
        "colab": {}
      },
      "source": [
        "type(\"And so is this.\")"
      ],
      "execution_count": null,
      "outputs": []
    },
    {
      "cell_type": "code",
      "metadata": {
        "id": "B6Dgpf4Nghn5",
        "colab_type": "code",
        "colab": {}
      },
      "source": [
        "type(\"\"\"and this.\"\"\")"
      ],
      "execution_count": null,
      "outputs": []
    },
    {
      "cell_type": "code",
      "metadata": {
        "id": "ca7pdyovgjjp",
        "colab_type": "code",
        "colab": {}
      },
      "source": [
        "type('''and even this...''')"
      ],
      "execution_count": null,
      "outputs": []
    },
    {
      "cell_type": "markdown",
      "metadata": {
        "id": "BPMZWulhgggG",
        "colab_type": "text"
      },
      "source": [
        "\n",
        "Double quoted strings can contain single quotes inside them, as in `\"Bruce's beard\"`, and single quoted strings can have double quotes inside them, as in `'The knights who say \"Ni!\"'`.\n",
        "\n",
        "Strings enclosed with three occurrences of either quote symbol are called triple quoted strings. They can contain either single or double quotes:\n",
        "\n",
        "```\n",
        ">>> print('''\"Oh no\", she exclaimed, \"Ben's bike is broken!\"''')\n",
        "\"Oh no\", she exclaimed, \"Ben's bike is broken!\"\n",
        ">>>\n",
        "```"
      ]
    },
    {
      "cell_type": "code",
      "metadata": {
        "id": "wQMID00cgncf",
        "colab_type": "code",
        "colab": {}
      },
      "source": [
        "print('''\"Oh no\", she exclaimed, \"Ben's bike is broken!\"''')"
      ],
      "execution_count": null,
      "outputs": []
    },
    {
      "cell_type": "markdown",
      "metadata": {
        "id": "hnfM6ruCgnoK",
        "colab_type": "text"
      },
      "source": [
        "\n",
        "Triple quoted strings can even span multiple lines:\n",
        "\n",
        "```\n",
        ">>> message = \"\"\"This message will\n",
        "... span several\n",
        "... lines.\"\"\"\n",
        ">>> print(message)\n",
        "This message will\n",
        "span several\n",
        "lines.\n",
        ">>>\n",
        "```\n"
      ]
    },
    {
      "cell_type": "code",
      "metadata": {
        "id": "pcAP6SqGgrbG",
        "colab_type": "code",
        "colab": {}
      },
      "source": [
        "message = \"\"\"This message will\n",
        "... span several\n",
        "... lines.\"\"\"\n",
        "print(message)"
      ],
      "execution_count": null,
      "outputs": []
    },
    {
      "cell_type": "markdown",
      "metadata": {
        "id": "3aKhDHVHgrmw",
        "colab_type": "text"
      },
      "source": [
        "\n",
        "Python doesn’t care whether you use single or double quotes or the three-of-a-kind quotes to surround your strings: once it has parsed the text of your program or command, the way it stores the value is identical in all cases, and the surrounding quotes are not part of the value. But when the interpreter wants to display a string, it has to decide which quotes to use to make it look like a string.\n",
        "\n",
        "```\n",
        ">>> 'This is a string.'\n",
        "'This is a string.'\n",
        ">>> \"\"\"And so is this.\"\"\"\n",
        "'And so is this.'\n",
        "```"
      ]
    },
    {
      "cell_type": "code",
      "metadata": {
        "id": "l8G65_igg2vK",
        "colab_type": "code",
        "colab": {}
      },
      "source": [
        "'This is a string.'"
      ],
      "execution_count": null,
      "outputs": []
    },
    {
      "cell_type": "code",
      "metadata": {
        "id": "GXVHotW4g4rS",
        "colab_type": "code",
        "colab": {}
      },
      "source": [
        "\"\"\"And so is this.\"\"\""
      ],
      "execution_count": null,
      "outputs": []
    },
    {
      "cell_type": "markdown",
      "metadata": {
        "id": "z8Q2y0qgg22U",
        "colab_type": "text"
      },
      "source": [
        "\n",
        "So the Python language designers usually chose to surround their strings by single quotes. What do think would happen if the string already contained single quotes?\n",
        "\n",
        "When you type a large integer, you might be tempted to use commas between groups of three digits, as in `42,000`. This is not a legal integer in Python, but it does mean something else, which is legal:\n",
        "\n",
        "\n",
        "\n",
        "```\n",
        ">>> 42000\n",
        "42000\n",
        ">>> 42,000\n",
        "(42, 0)\n",
        "```\n"
      ]
    },
    {
      "cell_type": "code",
      "metadata": {
        "id": "LvCNIgNMg8Ax",
        "colab_type": "code",
        "colab": {}
      },
      "source": [
        "42000"
      ],
      "execution_count": null,
      "outputs": []
    },
    {
      "cell_type": "code",
      "metadata": {
        "id": "S0CQ87E7g9cE",
        "colab_type": "code",
        "colab": {}
      },
      "source": [
        "42,000"
      ],
      "execution_count": null,
      "outputs": []
    },
    {
      "cell_type": "markdown",
      "metadata": {
        "id": "u2NPFcHqg8Wj",
        "colab_type": "text"
      },
      "source": [
        "\n",
        "Well, that’s not what we expected at all! Because of the comma, Python chose to treat this as a *pair* of values. We’ll come back to learn about pairs later. But, for the moment, remember not to put commas or spaces in your integers, no matter how big they are. Also revisit what we said in the previous chapter: formal languages are strict, the notation is concise, and even the smallest change might mean something quite different from what you intended."
      ]
    },
    {
      "cell_type": "markdown",
      "metadata": {
        "id": "K2KSWkBTfFH-",
        "colab_type": "text"
      },
      "source": [
        "## 2.2. Variables\n",
        "\n",
        "\n",
        "\n",
        "\n"
      ]
    },
    {
      "cell_type": "code",
      "metadata": {
        "id": "N1KsxqY9wfaE",
        "colab_type": "code",
        "colab": {}
      },
      "source": [
        ""
      ],
      "execution_count": null,
      "outputs": []
    },
    {
      "cell_type": "markdown",
      "metadata": {
        "id": "qKn83QHIfvTs",
        "colab_type": "text"
      },
      "source": [
        ""
      ]
    },
    {
      "cell_type": "code",
      "metadata": {
        "id": "Ik-VU17KfvuL",
        "colab_type": "code",
        "colab": {}
      },
      "source": [
        ""
      ],
      "execution_count": null,
      "outputs": []
    }
  ]
}