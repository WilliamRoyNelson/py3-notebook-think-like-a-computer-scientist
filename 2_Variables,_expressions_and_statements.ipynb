{
  "nbformat": 4,
  "nbformat_minor": 0,
  "metadata": {
    "colab": {
      "name": "2. Variables, expressions and statements.ipynb",
      "provenance": [],
      "collapsed_sections": [],
      "authorship_tag": "ABX9TyNN6/jHkWmKXvaSDSBCpARk",
      "include_colab_link": true
    },
    "kernelspec": {
      "name": "python3",
      "display_name": "Python 3"
    }
  },
  "cells": [
    {
      "cell_type": "markdown",
      "metadata": {
        "id": "view-in-github",
        "colab_type": "text"
      },
      "source": [
        "<a href=\"https://colab.research.google.com/github/WilliamRoyNelson/py3-notebook-think-like-a-computer-scientist/blob/master/2_Variables%2C_expressions_and_statements.ipynb\" target=\"_parent\"><img src=\"https://colab.research.google.com/assets/colab-badge.svg\" alt=\"Open In Colab\"/></a>"
      ]
    },
    {
      "cell_type": "markdown",
      "metadata": {
        "id": "q8GzZ21_eAEJ",
        "colab_type": "text"
      },
      "source": [
        "# 2. Variables, expressions and statements\n",
        "\n",
        "## 2.1. Values and data types\n",
        "\n",
        "A **value** is one of the fundamental things — like a letter or a number — that a program manipulates. The values we have seen so far are `4` (the result when we added `2 + 2`), and `\"Hello, World!\"`.\n",
        "\n",
        "These values are classified into different **classes**, or **data types**: `4` is an *integer*, and `\"Hello, World!\"` is a *string*, so-called because it contains a string of letters. You (and the interpreter) can identify strings because they are enclosed in quotation marks.\n",
        "\n",
        "If you are not sure what class a value falls into, Python has a function called **type** which can tell you.\n",
        "```\n",
        ">>> type(\"Hello, World!\")\n",
        "<class 'str'>\n",
        ">>> type(17)\n",
        "<class 'int'>\n",
        "```\n"
      ]
    },
    {
      "cell_type": "code",
      "metadata": {
        "id": "r9-iphvof3LR",
        "colab_type": "code",
        "colab": {
          "base_uri": "https://localhost:8080/",
          "height": 34
        },
        "outputId": "e747e443-f8eb-480a-b29f-07f2aed36891"
      },
      "source": [
        "type(\"Hello, World!\")"
      ],
      "execution_count": 1,
      "outputs": [
        {
          "output_type": "execute_result",
          "data": {
            "text/plain": [
              "str"
            ]
          },
          "metadata": {
            "tags": []
          },
          "execution_count": 1
        }
      ]
    },
    {
      "cell_type": "code",
      "metadata": {
        "id": "E2msoOytf7DQ",
        "colab_type": "code",
        "colab": {
          "base_uri": "https://localhost:8080/",
          "height": 34
        },
        "outputId": "a4e6f677-05fa-4f58-8318-cb6e626d3f3f"
      },
      "source": [
        "type(17)"
      ],
      "execution_count": 2,
      "outputs": [
        {
          "output_type": "execute_result",
          "data": {
            "text/plain": [
              "int"
            ]
          },
          "metadata": {
            "tags": []
          },
          "execution_count": 2
        }
      ]
    },
    {
      "cell_type": "markdown",
      "metadata": {
        "id": "7OVO3kisf2HS",
        "colab_type": "text"
      },
      "source": [
        "\n",
        "Not surprisingly, strings belong to the class **str** and integers belong to the class **int**. Less obviously, numbers with a decimal point belong to a class called **float**, because these numbers are represented in a format called *floating-point*. At this stage, you can treat the words *class* and *type* interchangeably. We’ll come back to a deeper understanding of what a class is in later chapters.\n",
        "\n",
        "```\n",
        ">>> type(3.2)\n",
        "<class 'float'>\n",
        "```\n"
      ]
    },
    {
      "cell_type": "code",
      "metadata": {
        "id": "CPtM3KQJgM3H",
        "colab_type": "code",
        "colab": {
          "base_uri": "https://localhost:8080/",
          "height": 34
        },
        "outputId": "89a6fc2a-8294-4821-8f8a-99157afdb9cf"
      },
      "source": [
        "type(3.2)"
      ],
      "execution_count": 3,
      "outputs": [
        {
          "output_type": "execute_result",
          "data": {
            "text/plain": [
              "float"
            ]
          },
          "metadata": {
            "tags": []
          },
          "execution_count": 3
        }
      ]
    },
    {
      "cell_type": "markdown",
      "metadata": {
        "id": "M1dkJjIwgN9P",
        "colab_type": "text"
      },
      "source": [
        "\n",
        "What about values like \"`17`\" and \"`3.2`\"? They look like numbers, but they are in quotation marks like strings.\n",
        "\n",
        "\n",
        "\n",
        "```\n",
        ">>> type(\"17\")\n",
        "<class 'str'>\n",
        ">>> type(\"3.2\")\n",
        "<class 'str'>\n",
        "```\n",
        "\n",
        "\n"
      ]
    },
    {
      "cell_type": "code",
      "metadata": {
        "id": "707MXYNJgYWN",
        "colab_type": "code",
        "colab": {
          "base_uri": "https://localhost:8080/",
          "height": 34
        },
        "outputId": "5607843f-b460-4100-ad4d-64c26c1a2bab"
      },
      "source": [
        "type(\"17\")"
      ],
      "execution_count": 4,
      "outputs": [
        {
          "output_type": "execute_result",
          "data": {
            "text/plain": [
              "str"
            ]
          },
          "metadata": {
            "tags": []
          },
          "execution_count": 4
        }
      ]
    },
    {
      "cell_type": "code",
      "metadata": {
        "id": "X60ItST_gZi_",
        "colab_type": "code",
        "colab": {
          "base_uri": "https://localhost:8080/",
          "height": 34
        },
        "outputId": "991cfa54-cd5e-48e9-e319-fd2820a8b564"
      },
      "source": [
        "type(\"3.2\")"
      ],
      "execution_count": 5,
      "outputs": [
        {
          "output_type": "execute_result",
          "data": {
            "text/plain": [
              "str"
            ]
          },
          "metadata": {
            "tags": []
          },
          "execution_count": 5
        }
      ]
    },
    {
      "cell_type": "markdown",
      "metadata": {
        "id": "VBeIfZQ8gYcp",
        "colab_type": "text"
      },
      "source": [
        "\n",
        "They’re strings!\n",
        "\n",
        "Strings in Python can be enclosed in either single quotes (`'`) or double quotes (`\"`), or three of each (`'''` or `\"\"\"`)\n",
        "\n",
        "\n",
        "\n",
        "```\n",
        ">>> type('This is a string.')\n",
        "<class 'str'>\n",
        ">>> type(\"And so is this.\")\n",
        "<class 'str'>\n",
        ">>> type(\"\"\"and this.\"\"\")\n",
        "<class 'str'>\n",
        ">>> type('''and even this...''')\n",
        "<class 'str'>\n",
        "```\n"
      ]
    },
    {
      "cell_type": "code",
      "metadata": {
        "id": "Vo_eSlBzggY6",
        "colab_type": "code",
        "colab": {
          "base_uri": "https://localhost:8080/",
          "height": 34
        },
        "outputId": "a32926fa-9931-48cf-8e07-8ebe42482a7e"
      },
      "source": [
        "type('This is a string.')"
      ],
      "execution_count": 6,
      "outputs": [
        {
          "output_type": "execute_result",
          "data": {
            "text/plain": [
              "str"
            ]
          },
          "metadata": {
            "tags": []
          },
          "execution_count": 6
        }
      ]
    },
    {
      "cell_type": "code",
      "metadata": {
        "id": "Ld4pGJlAghla",
        "colab_type": "code",
        "colab": {
          "base_uri": "https://localhost:8080/",
          "height": 34
        },
        "outputId": "80181fcc-1905-4205-c5cf-e2f7384d0439"
      },
      "source": [
        "type(\"And so is this.\")"
      ],
      "execution_count": 7,
      "outputs": [
        {
          "output_type": "execute_result",
          "data": {
            "text/plain": [
              "str"
            ]
          },
          "metadata": {
            "tags": []
          },
          "execution_count": 7
        }
      ]
    },
    {
      "cell_type": "code",
      "metadata": {
        "id": "B6Dgpf4Nghn5",
        "colab_type": "code",
        "colab": {
          "base_uri": "https://localhost:8080/",
          "height": 34
        },
        "outputId": "d8286230-485f-4129-bb25-9074d33d71f9"
      },
      "source": [
        "type(\"\"\"and this.\"\"\")"
      ],
      "execution_count": 8,
      "outputs": [
        {
          "output_type": "execute_result",
          "data": {
            "text/plain": [
              "str"
            ]
          },
          "metadata": {
            "tags": []
          },
          "execution_count": 8
        }
      ]
    },
    {
      "cell_type": "code",
      "metadata": {
        "id": "ca7pdyovgjjp",
        "colab_type": "code",
        "colab": {
          "base_uri": "https://localhost:8080/",
          "height": 34
        },
        "outputId": "a5f7f6a2-c1fd-4cae-b87e-7f3750fb1de7"
      },
      "source": [
        "type('''and even this...''')"
      ],
      "execution_count": 9,
      "outputs": [
        {
          "output_type": "execute_result",
          "data": {
            "text/plain": [
              "str"
            ]
          },
          "metadata": {
            "tags": []
          },
          "execution_count": 9
        }
      ]
    },
    {
      "cell_type": "markdown",
      "metadata": {
        "id": "BPMZWulhgggG",
        "colab_type": "text"
      },
      "source": [
        "\n",
        "Double quoted strings can contain single quotes inside them, as in `\"Bruce's beard\"`, and single quoted strings can have double quotes inside them, as in `'The knights who say \"Ni!\"'`.\n",
        "\n",
        "Strings enclosed with three occurrences of either quote symbol are called triple quoted strings. They can contain either single or double quotes:\n",
        "\n",
        "```\n",
        ">>> print('''\"Oh no\", she exclaimed, \"Ben's bike is broken!\"''')\n",
        "\"Oh no\", she exclaimed, \"Ben's bike is broken!\"\n",
        ">>>\n",
        "```"
      ]
    },
    {
      "cell_type": "code",
      "metadata": {
        "id": "wQMID00cgncf",
        "colab_type": "code",
        "colab": {
          "base_uri": "https://localhost:8080/",
          "height": 34
        },
        "outputId": "ffd60fb9-d73a-421f-f23a-42cf887d6d3f"
      },
      "source": [
        "print('''\"Oh no\", she exclaimed, \"Ben's bike is broken!\"''')"
      ],
      "execution_count": 10,
      "outputs": [
        {
          "output_type": "stream",
          "text": [
            "\"Oh no\", she exclaimed, \"Ben's bike is broken!\"\n"
          ],
          "name": "stdout"
        }
      ]
    },
    {
      "cell_type": "markdown",
      "metadata": {
        "id": "hnfM6ruCgnoK",
        "colab_type": "text"
      },
      "source": [
        "\n",
        "Triple quoted strings can even span multiple lines:\n",
        "\n",
        "```\n",
        ">>> message = \"\"\"This message will\n",
        "... span several\n",
        "... lines.\"\"\"\n",
        ">>> print(message)\n",
        "This message will\n",
        "span several\n",
        "lines.\n",
        ">>>\n",
        "```\n"
      ]
    },
    {
      "cell_type": "code",
      "metadata": {
        "id": "pcAP6SqGgrbG",
        "colab_type": "code",
        "colab": {
          "base_uri": "https://localhost:8080/",
          "height": 68
        },
        "outputId": "22897620-6e2f-4a91-fff2-d4d3f42fedd9"
      },
      "source": [
        "message = \"\"\"This message will\n",
        "... span several\n",
        "... lines.\"\"\"\n",
        "print(message)"
      ],
      "execution_count": 11,
      "outputs": [
        {
          "output_type": "stream",
          "text": [
            "This message will\n",
            "span several\n",
            "lines.\n"
          ],
          "name": "stdout"
        }
      ]
    },
    {
      "cell_type": "markdown",
      "metadata": {
        "id": "3aKhDHVHgrmw",
        "colab_type": "text"
      },
      "source": [
        "\n",
        "Python doesn’t care whether you use single or double quotes or the three-of-a-kind quotes to surround your strings: once it has parsed the text of your program or command, the way it stores the value is identical in all cases, and the surrounding quotes are not part of the value. But when the interpreter wants to display a string, it has to decide which quotes to use to make it look like a string.\n",
        "\n",
        "```\n",
        ">>> 'This is a string.'\n",
        "'This is a string.'\n",
        ">>> \"\"\"And so is this.\"\"\"\n",
        "'And so is this.'\n",
        "```"
      ]
    },
    {
      "cell_type": "code",
      "metadata": {
        "id": "l8G65_igg2vK",
        "colab_type": "code",
        "colab": {
          "base_uri": "https://localhost:8080/",
          "height": 35
        },
        "outputId": "18e14b6b-601c-47cd-ba42-1d96695a322b"
      },
      "source": [
        "'This is a string.'"
      ],
      "execution_count": 12,
      "outputs": [
        {
          "output_type": "execute_result",
          "data": {
            "application/vnd.google.colaboratory.intrinsic+json": {
              "type": "string"
            },
            "text/plain": [
              "'This is a string.'"
            ]
          },
          "metadata": {
            "tags": []
          },
          "execution_count": 12
        }
      ]
    },
    {
      "cell_type": "code",
      "metadata": {
        "id": "GXVHotW4g4rS",
        "colab_type": "code",
        "colab": {
          "base_uri": "https://localhost:8080/",
          "height": 35
        },
        "outputId": "c5d69a2c-baee-4d73-9229-ace02ca5cb55"
      },
      "source": [
        "\"\"\"And so is this.\"\"\""
      ],
      "execution_count": 13,
      "outputs": [
        {
          "output_type": "execute_result",
          "data": {
            "application/vnd.google.colaboratory.intrinsic+json": {
              "type": "string"
            },
            "text/plain": [
              "'And so is this.'"
            ]
          },
          "metadata": {
            "tags": []
          },
          "execution_count": 13
        }
      ]
    },
    {
      "cell_type": "markdown",
      "metadata": {
        "id": "z8Q2y0qgg22U",
        "colab_type": "text"
      },
      "source": [
        "\n",
        "So the Python language designers usually chose to surround their strings by single quotes. What do think would happen if the string already contained single quotes?\n",
        "\n",
        "When you type a large integer, you might be tempted to use commas between groups of three digits, as in `42,000`. This is not a legal integer in Python, but it does mean something else, which is legal:\n",
        "\n",
        "\n",
        "\n",
        "```\n",
        ">>> 42000\n",
        "42000\n",
        ">>> 42,000\n",
        "(42, 0)\n",
        "```\n"
      ]
    },
    {
      "cell_type": "code",
      "metadata": {
        "id": "LvCNIgNMg8Ax",
        "colab_type": "code",
        "colab": {
          "base_uri": "https://localhost:8080/",
          "height": 34
        },
        "outputId": "ac1bd57c-e74c-403a-825a-a8df6a8671a3"
      },
      "source": [
        "42000"
      ],
      "execution_count": 14,
      "outputs": [
        {
          "output_type": "execute_result",
          "data": {
            "text/plain": [
              "42000"
            ]
          },
          "metadata": {
            "tags": []
          },
          "execution_count": 14
        }
      ]
    },
    {
      "cell_type": "code",
      "metadata": {
        "id": "S0CQ87E7g9cE",
        "colab_type": "code",
        "colab": {
          "base_uri": "https://localhost:8080/",
          "height": 34
        },
        "outputId": "884b607a-4a26-4b07-8957-6750f2e0d5ea"
      },
      "source": [
        "42,000"
      ],
      "execution_count": 15,
      "outputs": [
        {
          "output_type": "execute_result",
          "data": {
            "text/plain": [
              "(42, 0)"
            ]
          },
          "metadata": {
            "tags": []
          },
          "execution_count": 15
        }
      ]
    },
    {
      "cell_type": "markdown",
      "metadata": {
        "id": "u2NPFcHqg8Wj",
        "colab_type": "text"
      },
      "source": [
        "\n",
        "Well, that’s not what we expected at all! Because of the comma, Python chose to treat this as a *pair* of values. We’ll come back to learn about pairs later. But, for the moment, remember not to put commas or spaces in your integers, no matter how big they are. Also revisit what we said in the previous chapter: formal languages are strict, the notation is concise, and even the smallest change might mean something quite different from what you intended."
      ]
    },
    {
      "cell_type": "markdown",
      "metadata": {
        "id": "K2KSWkBTfFH-",
        "colab_type": "text"
      },
      "source": [
        "## 2.2. Variables\n",
        "\n",
        "\n",
        "\n",
        "\n"
      ]
    },
    {
      "cell_type": "code",
      "metadata": {
        "id": "N1KsxqY9wfaE",
        "colab_type": "code",
        "colab": {}
      },
      "source": [
        ""
      ],
      "execution_count": null,
      "outputs": []
    },
    {
      "cell_type": "markdown",
      "metadata": {
        "id": "qKn83QHIfvTs",
        "colab_type": "text"
      },
      "source": [
        ""
      ]
    },
    {
      "cell_type": "code",
      "metadata": {
        "id": "Ik-VU17KfvuL",
        "colab_type": "code",
        "colab": {}
      },
      "source": [
        ""
      ],
      "execution_count": null,
      "outputs": []
    }
  ]
}